{
 "cells": [
  {
   "cell_type": "code",
   "execution_count": null,
   "metadata": {},
   "outputs": [],
   "source": [
    "import pandas as pd\n",
    "\n",
    "# CSV 파일 로드\n",
    "df = pd.read_csv('sample.csv', index_col=0)"
   ]
  },
  {
   "cell_type": "code",
   "execution_count": null,
   "metadata": {},
   "outputs": [],
   "source": [
    "from elasticsearch import Elasticsearch\n",
    "\n",
    "# Elasticsearch 클라이언트 설정 및 연결\n",
    "es = Elasticsearch(\n",
    "    ['https://localhost:9200'],\n",
    "    http_auth=('elastic', 'password'),\n",
    "    verify_certs=True,  # False로 아래 인증서 경로 없이 할 수 있으나 권장 X\n",
    "    ca_certs='config/certs/http.p12'\n",
    ")"
   ]
  },
  {
   "cell_type": "code",
   "execution_count": null,
   "metadata": {},
   "outputs": [],
   "source": [
    "# Elasticsearch에 데이터 적재\n",
    "for index, row in df.iterrows():\n",
    "    es.index(index='index_name', id=index, body=row.to_dict())"
   ]
  },
  {
   "cell_type": "code",
   "execution_count": null,
   "metadata": {},
   "outputs": [],
   "source": [
    "# BULK API를 사용하면 대용량 파일도 더욱 빨리 적재할 수 있다.\n",
    "\n",
    "from elasticsearch import helpers\n",
    "\n",
    "# Bulk API를 사용한 데이터 적재\n",
    "actions = [\n",
    "    {\n",
    "        \"_index\": \"index_name\",\n",
    "        \"_id\": index,\n",
    "        \"_source\": row.to_dict()\n",
    "    }\n",
    "    for index, row in df.iterrows()\n",
    "]\n",
    "\n",
    "# Bulk API 실행\n",
    "success, _ = helpers.bulk(es, actions)"
   ]
  }
 ],
 "metadata": {
  "kernelspec": {
   "display_name": "Python 3",
   "language": "python",
   "name": "python3"
  },
  "language_info": {
   "name": "python",
   "version": "3.9.17"
  }
 },
 "nbformat": 4,
 "nbformat_minor": 2
}
