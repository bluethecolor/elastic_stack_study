{
 "cells": [
  {
   "cell_type": "markdown",
   "metadata": {},
   "source": [
    "##### 검색 쿼리\n",
    "기본 검색: GET /_search는 모든 인덱스에서 데이터를 검색합니다.\n",
    "```json\n",
    "GET /my_index/_search\n",
    "{\n",
    "  \"query\": {\n",
    "    \"match\": {\n",
    "      \"field_name\": \"text to search\"\n",
    "    }\n",
    "  }\n",
    "}\n",
    "``````"
   ]
  },
  {
   "cell_type": "markdown",
   "metadata": {},
   "source": [
    "##### 데이터 관리\n",
    "- 데이터 삽입: POST 또는 PUT을 사용하여 데이터를 인덱스에 삽입합니다.\n",
    "- 문서에는 'name', 'age', 'interests' 필드가 포함됩니다.\n",
    "```json\n",
    "POST /test_index/_doc/1\n",
    "{\n",
    "  \"name\": \"John Doe\",\n",
    "  \"age\": 30,\n",
    "  \"interests\": [\"football\", \"music\"]\n",
    "}\n",
    "\n",
    "```\n",
    "- 데이터 업데이트: POST 메소드와 업데이트 엔드포인트를 사용합니다.\n",
    "- ID가 1인 문서의 'age' 필드를 31로 업데이트합니다.\n",
    "```json\n",
    "POST /test_index/_update/1\n",
    "{\n",
    "  \"doc\": {\n",
    "    \"age\": 31\n",
    "  }\n",
    "}\n",
    "\n",
    "```\n",
    "  - 데이터 삭제\n",
    "  - ID가 1인 문서를 삭제합니다.\n",
    "```json\n",
    "DELETE /test_index/_doc/1\n",
    "``````"
   ]
  },
  {
   "cell_type": "markdown",
   "metadata": {},
   "source": [
    "##### 인덱스 관리\n",
    "- 인덱스 생성: PUT을 사용하여 새 인덱스를 생성합니다.\n",
    "- 샤드(shards)와 복제본(replicas)의 수를 설정할 수 있습니다.\n",
    "```json\n",
    "PUT /my_new_index\n",
    "{\n",
    "  \"settings\": {\n",
    "    \"number_of_shards\": 1,\n",
    "    \"number_of_replicas\": 1\n",
    "  }\n",
    "}\n",
    "```\n",
    "- 인덱스 삭제: DELETE 메소드를 사용하여 인덱스를 삭제합니다.\n",
    "```json\n",
    "DELETE /my_index\n",
    "```"
   ]
  },
  {
   "cell_type": "markdown",
   "metadata": {},
   "source": [
    "##### 집계 및 분석\n",
    "집계 쿼리: 데이터에 대한 통계, 평균, 최대값 등을 계산합니다.\n",
    "```json\n",
    "GET /my_index/_search\n",
    "{\n",
    "  \"aggs\": {\n",
    "    \"avg_field\": {\n",
    "      \"avg\": {\n",
    "        \"field\": \"numeric_field\"\n",
    "      }\n",
    "    }\n",
    "  }\n",
    "}\n",
    "```"
   ]
  },
  {
   "cell_type": "markdown",
   "metadata": {},
   "source": []
  }
 ],
 "metadata": {
  "language_info": {
   "name": "python"
  }
 },
 "nbformat": 4,
 "nbformat_minor": 2
}
