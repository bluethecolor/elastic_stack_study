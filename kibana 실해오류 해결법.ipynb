{
 "cells": [
  {
   "cell_type": "markdown",
   "metadata": {},
   "source": [
    "### 키바나 실행오류 해결법\n",
    "\n",
    "#### <bin/kibana 실행시 오류>\n",
    "\n",
    "Port 5601 is already in use. Another instance of Kibana may be running!\n",
    "\n",
    "##### <해결법>\n",
    "\n",
    "lsof -i :{port번호} (실행중인 port번호 검색)\n",
    "\n",
    "kill -9 {PID}\n",
    "\n",
    "\n",
    "#### <웹페이지 접속시 오류>\n",
    "\n",
    "kibana server is not ready yet.\n",
    "\n",
    "##### <해결법>\n",
    "\n",
    "config/kibana.yml에 들어가서 \n",
    "\n",
    "elasticsearch.hosts: [ \"http://localhost:9200\"] 로 바꿔주니 해결되었다."
   ]
  },
  {
   "cell_type": "markdown",
   "metadata": {},
   "source": []
  }
 ],
 "metadata": {
  "language_info": {
   "name": "python"
  }
 },
 "nbformat": 4,
 "nbformat_minor": 2
}
