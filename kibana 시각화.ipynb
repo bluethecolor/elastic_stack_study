{
 "cells": [
  {
   "cell_type": "markdown",
   "metadata": {},
   "source": [
    "<데이터를 elasticsearc에 적재 완료 했다는 가정하>\n",
    "\n",
    "- 8.11.3 버전\n",
    "#### Management -> Stack Management -> Kibana -> Data Views -> Create view\n",
    "\n",
    "위로 접속하면 Index pattern을 통해 적재된 index 중 골라서 Data View로 만들 수 있다.\n",
    "\n",
    "이렇게 생성한 Data view는 대시보드에서 선택하고 시각화 생성 가능"
   ]
  },
  {
   "cell_type": "markdown",
   "metadata": {},
   "source": [
    "대쉬보드의 상단 Contorls를 접속하여, 각 columns별로 특정 값들을 필터링하여 조회할 수 있는 기능 추가 가능"
   ]
  },
  {
   "cell_type": "markdown",
   "metadata": {},
   "source": [
    "##### <kibana 대쉬보드 실습 사례>\n",
    "\n",
    "- [streamlit app](https://bikeroadanalysis-bybfxn6adk69bm7zt7jlrm.streamlit.app/)에서 구현한 시각화를 kibana로도 구현\n",
    "\n",
    "\n",
    "\n",
    "![dashboard](dashboard.jpg)"
   ]
  },
  {
   "cell_type": "code",
   "execution_count": null,
   "metadata": {},
   "outputs": [],
   "source": []
  }
 ],
 "metadata": {
  "kernelspec": {
   "display_name": "Python 3",
   "language": "python",
   "name": "python3"
  },
  "language_info": {
   "codemirror_mode": {
    "name": "ipython",
    "version": 3
   },
   "file_extension": ".py",
   "mimetype": "text/x-python",
   "name": "python",
   "nbconvert_exporter": "python",
   "pygments_lexer": "ipython3",
   "version": "3.9.17"
  }
 },
 "nbformat": 4,
 "nbformat_minor": 2
}
